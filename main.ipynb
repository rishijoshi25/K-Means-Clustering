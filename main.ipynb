{
  "nbformat": 4,
  "nbformat_minor": 0,
  "metadata": {
    "colab": {
      "name": "Copy of main.ipynb",
      "provenance": [],
      "collapsed_sections": []
    },
    "kernelspec": {
      "name": "python3",
      "display_name": "Python 3"
    },
    "language_info": {
      "name": "python"
    }
  },
  "cells": [
    {
      "cell_type": "code",
      "metadata": {
        "colab": {
          "base_uri": "https://localhost:8080/"
        },
        "id": "gnQmNKxqakaJ",
        "outputId": "bef07a86-3643-44ed-e014-13f343c7cde7"
      },
      "source": [
        "!pip install validclust"
      ],
      "execution_count": null,
      "outputs": [
        {
          "output_type": "stream",
          "name": "stdout",
          "text": [
            "Collecting validclust\n",
            "  Downloading validclust-0.1.1-py2.py3-none-any.whl (8.1 kB)\n",
            "Requirement already satisfied: numpy>=1.16.5 in /usr/local/lib/python3.7/dist-packages (from validclust) (1.19.5)\n",
            "Requirement already satisfied: seaborn in /usr/local/lib/python3.7/dist-packages (from validclust) (0.11.2)\n",
            "Requirement already satisfied: packaging in /usr/local/lib/python3.7/dist-packages (from validclust) (21.2)\n",
            "Requirement already satisfied: matplotlib in /usr/local/lib/python3.7/dist-packages (from validclust) (3.2.2)\n",
            "Requirement already satisfied: scikit-learn in /usr/local/lib/python3.7/dist-packages (from validclust) (0.22.2.post1)\n",
            "Requirement already satisfied: pandas in /usr/local/lib/python3.7/dist-packages (from validclust) (1.1.5)\n",
            "Requirement already satisfied: cycler>=0.10 in /usr/local/lib/python3.7/dist-packages (from matplotlib->validclust) (0.11.0)\n",
            "Requirement already satisfied: kiwisolver>=1.0.1 in /usr/local/lib/python3.7/dist-packages (from matplotlib->validclust) (1.3.2)\n",
            "Requirement already satisfied: python-dateutil>=2.1 in /usr/local/lib/python3.7/dist-packages (from matplotlib->validclust) (2.8.2)\n",
            "Requirement already satisfied: pyparsing!=2.0.4,!=2.1.2,!=2.1.6,>=2.0.1 in /usr/local/lib/python3.7/dist-packages (from matplotlib->validclust) (2.4.7)\n",
            "Requirement already satisfied: six>=1.5 in /usr/local/lib/python3.7/dist-packages (from python-dateutil>=2.1->matplotlib->validclust) (1.15.0)\n",
            "Requirement already satisfied: pytz>=2017.2 in /usr/local/lib/python3.7/dist-packages (from pandas->validclust) (2018.9)\n",
            "Requirement already satisfied: scipy>=0.17.0 in /usr/local/lib/python3.7/dist-packages (from scikit-learn->validclust) (1.4.1)\n",
            "Requirement already satisfied: joblib>=0.11 in /usr/local/lib/python3.7/dist-packages (from scikit-learn->validclust) (1.1.0)\n",
            "Installing collected packages: validclust\n",
            "Successfully installed validclust-0.1.1\n"
          ]
        }
      ]
    },
    {
      "cell_type": "code",
      "metadata": {
        "id": "Msh9-h_ZapO8"
      },
      "source": [
        "import cv2\n",
        "import numpy\n",
        "import numpy as np\n",
        "import matplotlib.pyplot as plt\n",
        "from tensorflow.keras.datasets import cifar10\n",
        "from tensorflow import keras\n",
        "import tensorflow as tf\n",
        "from sklearn.metrics import silhouette_samples, silhouette_score\n",
        "from validclust import dunn\n",
        "from sklearn.metrics import pairwise_distances"
      ],
      "execution_count": null,
      "outputs": []
    },
    {
      "cell_type": "code",
      "metadata": {
        "colab": {
          "base_uri": "https://localhost:8080/"
        },
        "id": "HzgOXzMIavGL",
        "outputId": "26e8c083-2e47-4be6-9013-8c0af91a3c82"
      },
      "source": [
        "(X_train,y_train),(X_test,y_test) = cifar10.load_data()"
      ],
      "execution_count": null,
      "outputs": [
        {
          "output_type": "stream",
          "name": "stdout",
          "text": [
            "Downloading data from https://www.cs.toronto.edu/~kriz/cifar-10-python.tar.gz\n",
            "170500096/170498071 [==============================] - 11s 0us/step\n",
            "170508288/170498071 [==============================] - 11s 0us/step\n"
          ]
        }
      ]
    },
    {
      "cell_type": "code",
      "metadata": {
        "colab": {
          "base_uri": "https://localhost:8080/"
        },
        "id": "hugy-9aKaxZ0",
        "outputId": "b64f044f-3443-4460-8f2c-fe8d55770827"
      },
      "source": [
        "print(X_train.shape)\n",
        "print(y_train.shape)\n",
        "print(X_test.shape)\n",
        "print(y_test.shape)"
      ],
      "execution_count": null,
      "outputs": [
        {
          "output_type": "stream",
          "name": "stdout",
          "text": [
            "(50000, 32, 32, 3)\n",
            "(50000, 1)\n",
            "(10000, 32, 32, 3)\n",
            "(10000, 1)\n"
          ]
        }
      ]
    },
    {
      "cell_type": "code",
      "metadata": {
        "colab": {
          "base_uri": "https://localhost:8080/"
        },
        "id": "bDVKhn6ha2OC",
        "outputId": "7c84cd6d-8420-49d2-ed38-794c000f463c"
      },
      "source": [
        "print(type(X_train))\n",
        "print(type(y_train))\n",
        "print(type(X_test))\n",
        "print(type(y_test))"
      ],
      "execution_count": null,
      "outputs": [
        {
          "output_type": "stream",
          "name": "stdout",
          "text": [
            "<class 'numpy.ndarray'>\n",
            "<class 'numpy.ndarray'>\n",
            "<class 'numpy.ndarray'>\n",
            "<class 'numpy.ndarray'>\n"
          ]
        }
      ]
    },
    {
      "cell_type": "code",
      "metadata": {
        "id": "bNctTM7qa24Z"
      },
      "source": [
        "X_train = np.array([cv2.cvtColor(image, cv2.COLOR_BGR2GRAY) for image in X_train])\n",
        "X_test = np.array([cv2.cvtColor(image, cv2.COLOR_BGR2GRAY) for image in X_test])"
      ],
      "execution_count": null,
      "outputs": []
    },
    {
      "cell_type": "code",
      "metadata": {
        "id": "qUEi_Y8Sa44C"
      },
      "source": [
        "X_train = X_train.astype('float32') \n",
        "X_test = X_test.astype('float32')"
      ],
      "execution_count": null,
      "outputs": []
    },
    {
      "cell_type": "code",
      "metadata": {
        "id": "ilqTDVRNa65n"
      },
      "source": [
        "X_train = X_train/255.0\n",
        "X_test  = X_test/255.0"
      ],
      "execution_count": null,
      "outputs": []
    },
    {
      "cell_type": "code",
      "metadata": {
        "colab": {
          "base_uri": "https://localhost:8080/"
        },
        "id": "HBzGtCoXa8we",
        "outputId": "1aa5ed34-39f4-4de7-97b8-b826360a358e"
      },
      "source": [
        "X_test.shape"
      ],
      "execution_count": null,
      "outputs": [
        {
          "output_type": "execute_result",
          "data": {
            "text/plain": [
              "(10000, 32, 32)"
            ]
          },
          "metadata": {},
          "execution_count": 9
        }
      ]
    },
    {
      "cell_type": "code",
      "metadata": {
        "colab": {
          "base_uri": "https://localhost:8080/"
        },
        "id": "Ms_Widvca-ot",
        "outputId": "58d9be66-1aa6-4cab-9dc1-196dc5074a37"
      },
      "source": [
        "x_test = np.array(X_test.reshape(10000,1024))\n",
        "x_test.shape"
      ],
      "execution_count": null,
      "outputs": [
        {
          "output_type": "execute_result",
          "data": {
            "text/plain": [
              "(10000, 1024)"
            ]
          },
          "metadata": {},
          "execution_count": 10
        }
      ]
    },
    {
      "cell_type": "code",
      "metadata": {
        "id": "8zrJeLjybs_Z"
      },
      "source": [
        "def eucledian_distance(x1,x2):\n",
        "  return numpy.linalg.norm(x1-x2)"
      ],
      "execution_count": null,
      "outputs": []
    },
    {
      "cell_type": "code",
      "metadata": {
        "id": "f3RAtcwJbwqR"
      },
      "source": [
        "max_iter = 100"
      ],
      "execution_count": null,
      "outputs": []
    },
    {
      "cell_type": "code",
      "metadata": {
        "id": "G2LCDAxbbyfW"
      },
      "source": [
        "def kmeans(X, K):\n",
        "  centroids = getRandomCentroids(X, K)\n",
        "  distances = findDistances(X, centroids)\n",
        "  points = assignPoints(distances)\n",
        "\n",
        "  for i in range(max_iter):\n",
        "    clusters = createClusters(X, centroids, K, points, distances)\n",
        "\n",
        "  return points"
      ],
      "execution_count": null,
      "outputs": []
    },
    {
      "cell_type": "code",
      "metadata": {
        "id": "kVOguCMmb8x_"
      },
      "source": [
        "def getRandomCentroids(X, K):\n",
        "  centroids = []\n",
        "  idx = np.random.choice(len(X), K, replace=False)\n",
        "  centroids = X[idx, :]\n",
        "  return centroids"
      ],
      "execution_count": null,
      "outputs": []
    },
    {
      "cell_type": "code",
      "metadata": {
        "id": "4jSi4RrMcC5u"
      },
      "source": [
        "def findDistances(X, centroids):\n",
        "  dist = []\n",
        "  dist = [[eucledian_distance(X[j], centroids[i])for i in range(len(centroids))]for j in range(len(X))]\n",
        "  return dist"
      ],
      "execution_count": null,
      "outputs": []
    },
    {
      "cell_type": "code",
      "metadata": {
        "id": "1X6K7poocHbA"
      },
      "source": [
        "def assignPoints(distances):\n",
        "  points = []\n",
        "  for i in distances:\n",
        "    points.append(np.argmin(i))\n",
        "  \n",
        "  return np.array(points)"
      ],
      "execution_count": null,
      "outputs": []
    },
    {
      "cell_type": "code",
      "metadata": {
        "id": "i8utMsI5cLI9"
      },
      "source": [
        "def createClusters(X, centroids, K, points, distances):\n",
        "  update_cent = []\n",
        "\n",
        "  for i in range(K):\n",
        "    temp = []\n",
        "    indices = [z for z in range(len(points)) if points[z] == i]\n",
        "    for j in indices:\n",
        "        temp.append(X[j])\n",
        "    cent = np.mean(np.array(temp), axis = 0)\n",
        "    update_cent.append(cent)\n",
        "  \n",
        "  centroids = np.vstack(centroids)\n",
        "  distances = [[eucledian_distance(X[j], centroids[i])for i in range(len(centroids))]for j in range(len(X))]\n",
        "  points = np.array([np.argmin(i) for i in distances])"
      ],
      "execution_count": null,
      "outputs": []
    },
    {
      "cell_type": "code",
      "metadata": {
        "id": "DhIVpbuzcPM0"
      },
      "source": [
        "l = kmeans(x_test, 10)"
      ],
      "execution_count": null,
      "outputs": []
    },
    {
      "cell_type": "code",
      "metadata": {
        "colab": {
          "base_uri": "https://localhost:8080/"
        },
        "id": "HaczZxHbcSe1",
        "outputId": "aa9749d4-3172-4f83-e611-0cebe1edd68d"
      },
      "source": [
        "print(f'Silhouette Score(n=10): {silhouette_score(x_test, l)}')"
      ],
      "execution_count": null,
      "outputs": [
        {
          "output_type": "stream",
          "name": "stdout",
          "text": [
            "Silhouette Score(n=10): 0.05105886980891228\n"
          ]
        }
      ]
    },
    {
      "cell_type": "code",
      "metadata": {
        "colab": {
          "base_uri": "https://localhost:8080/"
        },
        "id": "EoZR8FJIc3YB",
        "outputId": "ef5b6185-7c04-48b7-d049-4c9bba867577"
      },
      "source": [
        "dist = pairwise_distances(x_test)\n",
        "dunn(dist, l)"
      ],
      "execution_count": null,
      "outputs": [
        {
          "output_type": "execute_result",
          "data": {
            "text/plain": [
              "0.08936835"
            ]
          },
          "metadata": {},
          "execution_count": 21
        }
      ]
    },
    {
      "cell_type": "markdown",
      "metadata": {
        "id": "Zy9xNsePeVF1"
      },
      "source": [
        "Part 2 - Autoencoders"
      ]
    },
    {
      "cell_type": "code",
      "metadata": {
        "colab": {
          "base_uri": "https://localhost:8080/"
        },
        "id": "lLTsqcUSeYv5",
        "outputId": "0639a7b0-49e8-40f5-de53-edb1ecc3e4ab"
      },
      "source": [
        "print(X_train.shape)"
      ],
      "execution_count": null,
      "outputs": [
        {
          "output_type": "stream",
          "name": "stdout",
          "text": [
            "(50000, 32, 32)\n"
          ]
        }
      ]
    },
    {
      "cell_type": "code",
      "metadata": {
        "colab": {
          "base_uri": "https://localhost:8080/"
        },
        "id": "pFaesT8DeugR",
        "outputId": "88e1623a-8309-4ffd-9791-98e485064d61"
      },
      "source": [
        "input_img = keras.Input(shape=(32,32,1))\n",
        "x = keras.layers.Flatten()(input_img)\n",
        "encoded = keras.layers.Dense(256, activation='relu')(x)\n",
        "\n",
        "decoded = keras.layers.Dense(1024, activation='sigmoid')(encoded)\n",
        "decoded = keras.layers.Reshape((32,32,1))(decoded)\n",
        "\n",
        "autoencoder = keras.Model(input_img, decoded)\n",
        "autoencoder.compile(optimizer='adam', loss='binary_crossentropy')\n",
        "\n",
        "autoencoder.summary()"
      ],
      "execution_count": null,
      "outputs": [
        {
          "output_type": "stream",
          "name": "stdout",
          "text": [
            "Model: \"model\"\n",
            "_________________________________________________________________\n",
            " Layer (type)                Output Shape              Param #   \n",
            "=================================================================\n",
            " input_1 (InputLayer)        [(None, 32, 32, 1)]       0         \n",
            "                                                                 \n",
            " flatten (Flatten)           (None, 1024)              0         \n",
            "                                                                 \n",
            " dense (Dense)               (None, 256)               262400    \n",
            "                                                                 \n",
            " dense_1 (Dense)             (None, 1024)              263168    \n",
            "                                                                 \n",
            " reshape (Reshape)           (None, 32, 32, 1)         0         \n",
            "                                                                 \n",
            "=================================================================\n",
            "Total params: 525,568\n",
            "Trainable params: 525,568\n",
            "Non-trainable params: 0\n",
            "_________________________________________________________________\n"
          ]
        }
      ]
    },
    {
      "cell_type": "code",
      "metadata": {
        "colab": {
          "base_uri": "https://localhost:8080/"
        },
        "id": "Tep0aBKHe2ET",
        "outputId": "a94d9abc-f9cf-4d58-9722-ae41cef09309"
      },
      "source": [
        "autoencoder.fit(X_train, X_train, epochs=20, batch_size=32, shuffle=True, validation_data=(X_test, X_test))"
      ],
      "execution_count": null,
      "outputs": [
        {
          "output_type": "stream",
          "name": "stdout",
          "text": [
            "Epoch 1/20\n",
            "1563/1563 [==============================] - 15s 9ms/step - loss: 0.6072 - val_loss: 0.5879\n",
            "Epoch 2/20\n",
            "1563/1563 [==============================] - 14s 9ms/step - loss: 0.5840 - val_loss: 0.5825\n",
            "Epoch 3/20\n",
            "1563/1563 [==============================] - 15s 9ms/step - loss: 0.5806 - val_loss: 0.5805\n",
            "Epoch 4/20\n",
            "1563/1563 [==============================] - 14s 9ms/step - loss: 0.5790 - val_loss: 0.5795\n",
            "Epoch 5/20\n",
            "1563/1563 [==============================] - 15s 9ms/step - loss: 0.5782 - val_loss: 0.5785\n",
            "Epoch 6/20\n",
            "1563/1563 [==============================] - 14s 9ms/step - loss: 0.5776 - val_loss: 0.5794\n",
            "Epoch 7/20\n",
            "1563/1563 [==============================] - 14s 9ms/step - loss: 0.5772 - val_loss: 0.5783\n",
            "Epoch 8/20\n",
            "1563/1563 [==============================] - 15s 9ms/step - loss: 0.5770 - val_loss: 0.5784\n",
            "Epoch 9/20\n",
            "1563/1563 [==============================] - 14s 9ms/step - loss: 0.5769 - val_loss: 0.5783\n",
            "Epoch 10/20\n",
            "1563/1563 [==============================] - 15s 9ms/step - loss: 0.5768 - val_loss: 0.5779\n",
            "Epoch 11/20\n",
            "1563/1563 [==============================] - 14s 9ms/step - loss: 0.5767 - val_loss: 0.5774\n",
            "Epoch 12/20\n",
            "1563/1563 [==============================] - 15s 9ms/step - loss: 0.5767 - val_loss: 0.5777\n",
            "Epoch 13/20\n",
            "1563/1563 [==============================] - 14s 9ms/step - loss: 0.5766 - val_loss: 0.5775\n",
            "Epoch 14/20\n",
            "1563/1563 [==============================] - 13s 9ms/step - loss: 0.5767 - val_loss: 0.5777\n",
            "Epoch 15/20\n",
            "1563/1563 [==============================] - 14s 9ms/step - loss: 0.5766 - val_loss: 0.5772\n",
            "Epoch 16/20\n",
            "1563/1563 [==============================] - 15s 9ms/step - loss: 0.5766 - val_loss: 0.5776\n",
            "Epoch 17/20\n",
            "1563/1563 [==============================] - 14s 9ms/step - loss: 0.5766 - val_loss: 0.5778\n",
            "Epoch 18/20\n",
            "1563/1563 [==============================] - 14s 9ms/step - loss: 0.5765 - val_loss: 0.5775\n",
            "Epoch 19/20\n",
            "1563/1563 [==============================] - 14s 9ms/step - loss: 0.5765 - val_loss: 0.5774\n",
            "Epoch 20/20\n",
            "1563/1563 [==============================] - 14s 9ms/step - loss: 0.5765 - val_loss: 0.5775\n"
          ]
        },
        {
          "output_type": "execute_result",
          "data": {
            "text/plain": [
              "<keras.callbacks.History at 0x7f8d79712650>"
            ]
          },
          "metadata": {},
          "execution_count": 26
        }
      ]
    },
    {
      "cell_type": "code",
      "metadata": {
        "id": "rEVxNo2Te55C"
      },
      "source": [
        "pred = autoencoder.predict(X_test)"
      ],
      "execution_count": null,
      "outputs": []
    },
    {
      "cell_type": "code",
      "metadata": {
        "colab": {
          "base_uri": "https://localhost:8080/"
        },
        "id": "gWlZ0JcVgNXj",
        "outputId": "8cb646e3-f9a7-4af2-d997-b07ef0ee29d1"
      },
      "source": [
        "pred.shape"
      ],
      "execution_count": null,
      "outputs": [
        {
          "output_type": "execute_result",
          "data": {
            "text/plain": [
              "(10000, 32, 32, 1)"
            ]
          },
          "metadata": {},
          "execution_count": 28
        }
      ]
    },
    {
      "cell_type": "code",
      "metadata": {
        "colab": {
          "base_uri": "https://localhost:8080/"
        },
        "id": "wVKrOi2sgPc2",
        "outputId": "6efa0514-1fa2-43b0-e141-f14ccf438373"
      },
      "source": [
        "y_pred = pred.reshape((10000,1024))\n",
        "print(y_pred.shape)"
      ],
      "execution_count": null,
      "outputs": [
        {
          "output_type": "stream",
          "name": "stdout",
          "text": [
            "(10000, 1024)\n"
          ]
        }
      ]
    },
    {
      "cell_type": "code",
      "metadata": {
        "colab": {
          "base_uri": "https://localhost:8080/",
          "height": 284
        },
        "id": "1W4faTCagSOS",
        "outputId": "1dbefd7d-86e2-438a-f175-09059ec57ea6"
      },
      "source": [
        "plt.imshow(X_test[1000])"
      ],
      "execution_count": null,
      "outputs": [
        {
          "output_type": "execute_result",
          "data": {
            "text/plain": [
              "<matplotlib.image.AxesImage at 0x7f8d65707d50>"
            ]
          },
          "metadata": {},
          "execution_count": 37
        },
        {
          "output_type": "display_data",
          "data": {
            "image/png": "[encoded data removed]",
            "text/plain": [
              "<Figure size 432x288 with 1 Axes>"
            ]
          },
          "metadata": {
            "needs_background": "light"
          }
        }
      ]
    },
    {
      "cell_type": "code",
      "metadata": {
        "colab": {
          "base_uri": "https://localhost:8080/",
          "height": 284
        },
        "id": "_2mhq5X9gfAz",
        "outputId": "146f13cc-18b2-4609-ef24-748b9a5e8102"
      },
      "source": [
        "plt.imshow(y_pred[1000].reshape(32, 32), cmap=\"gray\")"
      ],
      "execution_count": null,
      "outputs": [
        {
          "output_type": "execute_result",
          "data": {
            "text/plain": [
              "<matplotlib.image.AxesImage at 0x7f8d657b8e90>"
            ]
          },
          "metadata": {},
          "execution_count": 35
        },
        {
          "output_type": "display_data",
          "data": {
            "image/png": "[encoded data removed]",
            "text/plain": [
              "<Figure size 432x288 with 1 Axes>"
            ]
          },
          "metadata": {
            "needs_background": "light"
          }
        }
      ]
    },
    {
      "cell_type": "code",
      "metadata": {
        "id": "F26OCqCygsNF"
      },
      "source": [
        "from sklearn.cluster import KMeans\n",
        "kmeans = KMeans(n_clusters=10, random_state=0).fit(y_pred)"
      ],
      "execution_count": null,
      "outputs": []
    },
    {
      "cell_type": "code",
      "metadata": {
        "id": "vLZHUjjshHTT"
      },
      "source": [
        "l2 = kmeans.labels_"
      ],
      "execution_count": null,
      "outputs": []
    },
    {
      "cell_type": "code",
      "metadata": {
        "id": "zIBTZNQ6hPX1"
      },
      "source": [
        "test = X_test.reshape(10000,1024)"
      ],
      "execution_count": null,
      "outputs": []
    },
    {
      "cell_type": "code",
      "metadata": {
        "colab": {
          "base_uri": "https://localhost:8080/"
        },
        "id": "F1nWWyOjhVKL",
        "outputId": "228554c8-67f5-4d09-99fa-e32ddc6c21dd"
      },
      "source": [
        "print(f'Silhouette Score(n=3): {silhouette_score(test, l2)}')"
      ],
      "execution_count": null,
      "outputs": [
        {
          "output_type": "stream",
          "name": "stdout",
          "text": [
            "Silhouette Score(n=3): 0.05319574102759361\n"
          ]
        }
      ]
    },
    {
      "cell_type": "code",
      "metadata": {
        "id": "cg7dO8UshXzl"
      },
      "source": [
        ""
      ],
      "execution_count": null,
      "outputs": []
    }
  ]
}